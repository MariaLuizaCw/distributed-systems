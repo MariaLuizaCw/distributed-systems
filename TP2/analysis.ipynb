{
 "cells": [
  {
   "cell_type": "code",
   "execution_count": 5,
   "metadata": {},
   "outputs": [],
   "source": [
    "import subprocess\n",
    "import matplotlib.pyplot as plt\n",
    "import numpy as np"
   ]
  },
  {
   "attachments": {},
   "cell_type": "markdown",
   "metadata": {},
   "source": [
    "## Spin-Locks"
   ]
  },
  {
   "attachments": {},
   "cell_type": "markdown",
   "metadata": {},
   "source": [
    "### Executando os estudos de caso"
   ]
  },
  {
   "attachments": {},
   "cell_type": "markdown",
   "metadata": {},
   "source": [
    "- Para $n = 10^7$, $n = 10^8$, $n = 10^9$"
   ]
  },
  {
   "cell_type": "code",
   "execution_count": 40,
   "metadata": {},
   "outputs": [],
   "source": [
    "csv_file = 'results/spint_lock_tests.csv'\n",
    "with open(csv_file, 'a') as f:\n",
    "    f.write('n,k,time\\n')"
   ]
  },
  {
   "cell_type": "code",
   "execution_count": 45,
   "metadata": {},
   "outputs": [
    {
     "name": "stdout",
     "output_type": "stream",
     "text": [
      "Adding 10^7 with 2 threads\n",
      "Adding 10^7 with 4 threads\n",
      "Adding 10^7 with 8 threads\n",
      "Adding 10^7 with 16 threads\n",
      "Adding 10^7 with 32 threads\n",
      "Adding 10^7 with 64 threads\n",
      "Adding 10^7 with 128 threads\n",
      "Adding 10^7 with 256 threads\n",
      "Adding 10^8 with 2 threads\n",
      "Adding 10^8 with 4 threads\n",
      "Adding 10^8 with 8 threads\n",
      "Adding 10^8 with 16 threads\n",
      "Adding 10^8 with 32 threads\n",
      "Adding 10^8 with 64 threads\n"
     ]
    }
   ],
   "source": [
    "for n in range(7, 10, 1):\n",
    "    k = 2\n",
    "    while(k <= 256):\n",
    "        try:\n",
    "            print(f'Adding 10^{n} with {k} threads')\n",
    "            out = subprocess.check_output([\"./spin-locks/somador.out\", f'{n}', f'{k}'])\n",
    "        except subprocess.CalledProcessError as e:\n",
    "            print(e.output)\n",
    "            break\n",
    "        else: \n",
    "            time = float(str(out).split('Time spent: ')[1][:-3])\n",
    "            with open(csv_file, 'a') as f:\n",
    "                f.write(f'10^{n},{k},{time}\\n')\n",
    "            studies['k'].append(k)\n",
    "            k *= 2"
   ]
  }
 ],
 "metadata": {
  "kernelspec": {
   "display_name": ".venv",
   "language": "python",
   "name": "python3"
  },
  "language_info": {
   "codemirror_mode": {
    "name": "ipython",
    "version": 3
   },
   "file_extension": ".py",
   "mimetype": "text/x-python",
   "name": "python",
   "nbconvert_exporter": "python",
   "pygments_lexer": "ipython3",
   "version": "3.8.10"
  },
  "orig_nbformat": 4
 },
 "nbformat": 4,
 "nbformat_minor": 2
}
